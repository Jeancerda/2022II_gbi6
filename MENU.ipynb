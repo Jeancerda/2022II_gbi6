{
 "cells": [
  {
   "cell_type": "markdown",
   "id": "822814e2",
   "metadata": {},
   "source": [
    "# Tarea : Menu \n",
    "**Jean-Pierre Cerda**\n",
    "\n",
    "**GBI6**\n",
    "\n",
    "**7/12/2022**"
   ]
  },
  {
   "cell_type": "markdown",
   "id": "7f1eb977",
   "metadata": {},
   "source": [
    " - **Utilizando condicionales y operadores lógicos construya un algoritmo que permita seleccionar ingredientes y dar el precio final de un plato o producto de un restaurante.**\n",
    "\n"
   ]
  }
 ],
 "metadata": {
  "kernelspec": {
   "display_name": "Python 3 (ipykernel)",
   "language": "python",
   "name": "python3"
  },
  "language_info": {
   "codemirror_mode": {
    "name": "ipython",
    "version": 3
   },
   "file_extension": ".py",
   "mimetype": "text/x-python",
   "name": "python",
   "nbconvert_exporter": "python",
   "pygments_lexer": "ipython3",
   "version": "3.9.7"
  }
 },
 "nbformat": 4,
 "nbformat_minor": 5
}
