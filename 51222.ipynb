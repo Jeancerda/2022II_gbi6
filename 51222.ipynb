{
 "cells": [
  {
   "cell_type": "markdown",
   "id": "8f98e56b",
   "metadata": {},
   "source": [
    "# Listas"
   ]
  },
  {
   "cell_type": "code",
   "execution_count": 9,
   "id": "5e0bea6c",
   "metadata": {},
   "outputs": [
    {
     "data": {
      "text/plain": [
       "6"
      ]
     },
     "execution_count": 9,
     "metadata": {},
     "output_type": "execute_result"
    }
   ],
   "source": [
    "lista2 = [1, 2, \"Hola\", 2.5, True, [\"a\", \"b\"]]\n",
    "len(lista2)"
   ]
  },
  {
   "cell_type": "code",
   "execution_count": 20,
   "id": "902cb9e6",
   "metadata": {},
   "outputs": [
    {
     "data": {
      "text/plain": [
       "[1, 2, 'Hola', 2.5, True, ['a', 'b']]"
      ]
     },
     "execution_count": 20,
     "metadata": {},
     "output_type": "execute_result"
    }
   ],
   "source": [
    "lista2[:]         #para obtener todo"
   ]
  },
  {
   "cell_type": "code",
   "execution_count": 17,
   "id": "5f146d8b",
   "metadata": {},
   "outputs": [
    {
     "data": {
      "text/plain": [
       "[2, 'Hola', 2.5, True]"
      ]
     },
     "execution_count": 17,
     "metadata": {},
     "output_type": "execute_result"
    }
   ],
   "source": [
    "lista2[1:5]       # para tomar la segunda hasta la cuarta "
   ]
  },
  {
   "cell_type": "code",
   "execution_count": 19,
   "id": "47c5411f",
   "metadata": {},
   "outputs": [
    {
     "data": {
      "text/plain": [
       "[1, 2, 'Hola', 2.5, True]"
      ]
     },
     "execution_count": 19,
     "metadata": {},
     "output_type": "execute_result"
    }
   ],
   "source": [
    "lista2[:5]        # para obtener hasta el elemento 4"
   ]
  },
  {
   "cell_type": "code",
   "execution_count": 18,
   "id": "1080f346",
   "metadata": {},
   "outputs": [
    {
     "data": {
      "text/plain": [
       "[2, 'Hola', 2.5, True, ['a', 'b']]"
      ]
     },
     "execution_count": 18,
     "metadata": {},
     "output_type": "execute_result"
    }
   ],
   "source": [
    "lista2[1:5 +1]   # Para tomar  la segunda hasta el ultimo\n"
   ]
  },
  {
   "cell_type": "code",
   "execution_count": 22,
   "id": "3e0ac197",
   "metadata": {},
   "outputs": [
    {
     "data": {
      "text/plain": [
       "[['a', 'b'], 'Hola']"
      ]
     },
     "execution_count": 22,
     "metadata": {},
     "output_type": "execute_result"
    }
   ],
   "source": [
    "lista2[-1::-3]   # para tomar desde el ultimo al  elemento 3"
   ]
  },
  {
   "cell_type": "code",
   "execution_count": 23,
   "id": "e6f80eeb",
   "metadata": {},
   "outputs": [
    {
     "data": {
      "text/plain": [
       "[2, 2.5, ['a', 'b']]"
      ]
     },
     "execution_count": 23,
     "metadata": {},
     "output_type": "execute_result"
    }
   ],
   "source": [
    "lista2[1:6:2]        # para obtener  dichos elementos"
   ]
  },
  {
   "cell_type": "code",
   "execution_count": 27,
   "id": "4e5b4ccf",
   "metadata": {},
   "outputs": [
    {
     "data": {
      "text/plain": [
       "2.5"
      ]
     },
     "execution_count": 27,
     "metadata": {},
     "output_type": "execute_result"
    }
   ],
   "source": [
    "genes = [[\"p53\", 2.3, \"higado\"],[\"p53\", 1.3, \"rinon\"],[\"mapk3\", 2.5, \"higado\"]]\n",
    "genes[2][1]              # para obtener en el elemento 2 y obtener el elemento 2"
   ]
  },
  {
   "cell_type": "code",
   "execution_count": null,
   "id": "9f9c1085",
   "metadata": {},
   "outputs": [],
   "source": []
  },
  {
   "cell_type": "code",
   "execution_count": 32,
   "id": "28906b21",
   "metadata": {},
   "outputs": [
    {
     "name": "stdout",
     "output_type": "stream",
     "text": [
      "b\n",
      "sd\n",
      "c\n"
     ]
    }
   ],
   "source": [
    "lista1 = [\"a\", \"b\", \"c\", \"d\", \"e\", \"f\", \"g\", \"h\", \"i\"]\n",
    "print(lista1[1])\n",
    "\n",
    "lista1[1] = \"sd\"\n",
    "print(lista1[1])\n",
    "\n",
    "lista1.sort()\n",
    "print(lista1[1])\n"
   ]
  },
  {
   "cell_type": "code",
   "execution_count": null,
   "id": "ed4a087d",
   "metadata": {},
   "outputs": [],
   "source": []
  },
  {
   "cell_type": "code",
   "execution_count": 33,
   "id": "ae13c559",
   "metadata": {},
   "outputs": [
    {
     "data": {
      "text/plain": [
       "True"
      ]
     },
     "execution_count": 33,
     "metadata": {},
     "output_type": "execute_result"
    }
   ],
   "source": [
    "\"a\" in lista1             # in para preguntar "
   ]
  },
  {
   "cell_type": "code",
   "execution_count": 34,
   "id": "8ca836ff",
   "metadata": {},
   "outputs": [
    {
     "data": {
      "text/plain": [
       "False"
      ]
     },
     "execution_count": 34,
     "metadata": {},
     "output_type": "execute_result"
    }
   ],
   "source": [
    "\"b\" in lista1"
   ]
  },
  {
   "cell_type": "code",
   "execution_count": 36,
   "id": "0ebc535e",
   "metadata": {},
   "outputs": [
    {
     "name": "stdout",
     "output_type": "stream",
     "text": [
      "['a', 'c', 'd', 'e', 'f', 'g', 'h', 'i', 'sd']\n"
     ]
    }
   ],
   "source": [
    "lista1.reverse()\n",
    "print(lista1)"
   ]
  },
  {
   "cell_type": "markdown",
   "id": "37f2bfb0",
   "metadata": {},
   "source": [
    "# Añadiendo, reemplazando\n",
    "\n",
    "* A una lista se pueden añadir elementos de varias maneras.\n",
    "  * Mediante el método `append`.\n",
    "  * Mediante el método `insert`.\n",
    "  * Mediante el método `extend`. "
   ]
  },
  {
   "cell_type": "code",
   "execution_count": 43,
   "id": "519e9a7c",
   "metadata": {},
   "outputs": [
    {
     "name": "stdout",
     "output_type": "stream",
     "text": [
      "[]\n"
     ]
    },
    {
     "data": {
      "text/plain": [
       "['a', 'b', ['a', 'c', 'd', 'e', 'f', 'g', 'h', 'i', 'sd']]"
      ]
     },
     "execution_count": 43,
     "metadata": {},
     "output_type": "execute_result"
    }
   ],
   "source": [
    "listav = []\n",
    "print(listav)\n",
    "listav.append(\"a\")\n",
    "listav.append(\"b\")\n",
    "listav.append(lista1)\n",
    "listav                           # para hacer en bluce "
   ]
  },
  {
   "cell_type": "code",
   "execution_count": 46,
   "id": "da6ddebe",
   "metadata": {},
   "outputs": [
    {
     "data": {
      "text/plain": [
       "['a', 'b', ['a', 'c', 'd', 'e', 'f', 'g', 'h', 'i', 'sd']]"
      ]
     },
     "execution_count": 46,
     "metadata": {},
     "output_type": "execute_result"
    }
   ],
   "source": [
    "listav [0:5]"
   ]
  },
  {
   "cell_type": "code",
   "execution_count": 49,
   "id": "25c1a26c",
   "metadata": {},
   "outputs": [
    {
     "name": "stdout",
     "output_type": "stream",
     "text": [
      "['a', 'b', ['a', 'c', 'd', 'e', 'f', 'g', 'h', 'i', 'sd'], 'a', 'b', 'c', 'd', 'e', 'f', 'g', 'h', 'i', 'a', 'b', 'c', 'd', 'e', 'f', 'g', 'h', 'i']\n"
     ]
    }
   ],
   "source": [
    "listav.extend(lista2[1])\n",
    "print(listav)"
   ]
  },
  {
   "cell_type": "code",
   "execution_count": null,
   "id": "2d4310d7",
   "metadata": {},
   "outputs": [],
   "source": []
  },
  {
   "cell_type": "code",
   "execution_count": 51,
   "id": "54ebc742",
   "metadata": {},
   "outputs": [
    {
     "name": "stdout",
     "output_type": "stream",
     "text": [
      "['Reino', 'Filum', 'Orden', 'Familia']\n",
      "Después de append: ['Reino', 'Filum', 'Orden', 'Familia', ['Genero', 'Especie', 'Variedad']]\n",
      "Después de insert: ['Reino', 'Filum', 'Orden', 'a', 'Familia', ['Genero', 'Especie', 'Variedad']]\n",
      "Después de extend: ['Reino', 'Filum', 'Orden', 'a', 'Familia', ['Genero', 'Especie', 'Variedad'], 'Supespecie', 'Variedad', 'Tipo']\n"
     ]
    }
   ],
   "source": [
    "lista = [\"Reino\", \"Filum\", \"Orden\", \"Familia\"]\n",
    "print(lista)\n",
    "lista.append([\"Genero\", \"Especie\", \"Variedad\"])  #\n",
    "print(\"Después de append:\", lista)\n",
    "\n",
    "lista.insert(3, \"a\")                             #.insert() define la posicion donde quiero trabajar\n",
    "print(\"Después de insert:\", lista)\n",
    "\n",
    "lista.extend([\"Supespecie\", \"Variedad\", \"Tipo\"]) \n",
    "print(\"Después de extend:\", lista)"
   ]
  },
  {
   "cell_type": "code",
   "execution_count": null,
   "id": "96b1734d",
   "metadata": {},
   "outputs": [],
   "source": [
    "clases 12/12/2022"
   ]
  },
  {
   "cell_type": "markdown",
   "id": "163964d7",
   "metadata": {},
   "source": [
    "## Eliminando datos\n",
    "* Del mismo modo, se puede eliminar elementos de varias maneras.\n",
    "  * Mediante el método `remove`.\n",
    "  * Mediante el método `pop`.\n",
    "  * Mediante la function `del`.\n",
    "  * Mediante la function `clear`."
   ]
  },
  {
   "cell_type": "code",
   "execution_count": 3,
   "id": "7162f8d7",
   "metadata": {},
   "outputs": [
    {
     "name": "stdout",
     "output_type": "stream",
     "text": [
      "Lista original: ['Hola', 'GBI6', 'estamos', 'mes 2', 'python', 'listas']\n",
      "Elimino \"estamos\": ['Hola', 'GBI6', 'mes 2', 'python', 'listas']\n",
      "Elimino el último elemento: ['Hola', 'GBI6', 'mes 2', 'python']\n",
      "Elimino el elemento del índice 3: ['Hola', 'GBI6', 'mes 2']\n",
      "Elimino todo: []\n"
     ]
    }
   ],
   "source": [
    "lista1 = [\"Hola\", \"GBI6\", \"estamos\", \"mes 2\", \"python\", \"listas\"] \n",
    "\n",
    "print('Lista original:', lista1)\n",
    "\n",
    "lista1.remove(\"estamos\")   #remueve o quita un elemento\n",
    "print('Elimino \"estamos\":', lista1)\n",
    "\n",
    "lista1.pop()               #elimina el ultimo elemento de la lista \n",
    "print('Elimino el último elemento:', lista1)\n",
    "\n",
    "del lista1[3]             # elimina identificando el indice\n",
    "print(\"Elimino el elemento del índice 3:\", lista1)\n",
    "\n",
    "lista1.clear()             #limpiar la lista \n",
    "print(\"Elimino todo:\", lista1)"
   ]
  },
  {
   "cell_type": "markdown",
   "id": "7356a8c4",
   "metadata": {},
   "source": [
    "### Ordenamiento en listas\n",
    "\n",
    "Se puede ordernar listado de números o textos, pero **un solo tipo de dato**.  Se utilizan las funciones: \n",
    "\n",
    "* Ordenamiento `sort()`\n",
    "\n",
    "* Ordenamiento inverso, descendente `reverse()`"
   ]
  },
  {
   "cell_type": "code",
   "execution_count": 5,
   "id": "905f4385",
   "metadata": {},
   "outputs": [
    {
     "name": "stdout",
     "output_type": "stream",
     "text": [
      "Lista original: [5, 7, 4, 2, 9, 6, 2]\n",
      "Lista ordenada: [2, 2, 4, 5, 6, 7, 9]\n",
      "Lista ordenada reversa: [9, 7, 6, 5, 4, 2, 2]\n"
     ]
    }
   ],
   "source": [
    "primers = [5, 7, 4, 2, 9, 6, 2]    # se pone solo un tipo : puede ser solo numeros o solo letras \n",
    "print(\"Lista original:\", primers)\n",
    "primers.sort()              #ordena de forma acendente\n",
    "print(\"Lista ordenada:\", primers)\n",
    "primers.reverse()            # ordenade forma desentente\n",
    "print(\"Lista ordenada reversa:\", primers)"
   ]
  },
  {
   "cell_type": "markdown",
   "id": "2771f37f",
   "metadata": {},
   "source": [
    "### Operaciones sobre listas\n",
    "\n",
    "* Una lista se puede sumar y multiplicar.\n",
    "\n",
    "* Se puede contar el contenido de un listado"
   ]
  },
  {
   "cell_type": "code",
   "execution_count": 7,
   "id": "dfc1d6fd",
   "metadata": {},
   "outputs": [
    {
     "data": {
      "text/plain": [
       "[1, 2, 3, 'a', 'b', 'c']"
      ]
     },
     "execution_count": 7,
     "metadata": {},
     "output_type": "execute_result"
    }
   ],
   "source": [
    "lista1 = [1, 2, 3]\n",
    "lista2 = [\"a\", \"b\", \"c\"]        # una forma de agragar elementos es sumando \n",
    "lista1 + lista2"
   ]
  },
  {
   "cell_type": "code",
   "execution_count": 8,
   "id": "231df06c",
   "metadata": {},
   "outputs": [
    {
     "data": {
      "text/plain": [
       "[1, 2, 3, 1, 2, 3]"
      ]
     },
     "execution_count": 8,
     "metadata": {},
     "output_type": "execute_result"
    }
   ],
   "source": [
    "lista1*2\n"
   ]
  },
  {
   "cell_type": "code",
   "execution_count": 10,
   "id": "269abc2d",
   "metadata": {},
   "outputs": [
    {
     "data": {
      "text/plain": [
       "['a', 'b', 'c', 'a', 'b', 'c', 1, 2, 3]"
      ]
     },
     "execution_count": 10,
     "metadata": {},
     "output_type": "execute_result"
    }
   ],
   "source": [
    "lista3 = lista2 * 2 + lista1\n",
    "lista3"
   ]
  },
  {
   "cell_type": "code",
   "execution_count": 11,
   "id": "ddaf5bb8",
   "metadata": {},
   "outputs": [
    {
     "data": {
      "text/plain": [
       "2"
      ]
     },
     "execution_count": 11,
     "metadata": {},
     "output_type": "execute_result"
    }
   ],
   "source": [
    "# conteo de elementos\n",
    "lista3.count('a')"
   ]
  },
  {
   "cell_type": "code",
   "execution_count": 12,
   "id": "6b0c2097",
   "metadata": {},
   "outputs": [
    {
     "name": "stdout",
     "output_type": "stream",
     "text": [
      "['a', 'b', 'c', 'a', 'b', 'c', 1, 2, 3]\n",
      "['primero', 'b', 'c', 'a', 'Quinto', 'b', 'c', 1, 2, 3, 'ULTIMO']\n"
     ]
    }
   ],
   "source": [
    "lista3 = lista2 * 2 + lista1\n",
    "lista4 = lista3.copy()\n",
    "lista4[0] = \"primero\"\n",
    "lista4.append(\"ULTIMO\")\n",
    "lista4.insert(4, \"Quinto\")\n",
    "print(lista3)\n",
    "print(lista4)"
   ]
  },
  {
   "cell_type": "code",
   "execution_count": 14,
   "id": "6324d829",
   "metadata": {},
   "outputs": [
    {
     "data": {
      "text/plain": [
       "1"
      ]
     },
     "execution_count": 14,
     "metadata": {},
     "output_type": "execute_result"
    }
   ],
   "source": [
    "# índice de texto              #para ver la posicion \n",
    "lista3.index(\"b\") "
   ]
  },
  {
   "cell_type": "markdown",
   "id": "9b2107f6",
   "metadata": {},
   "source": [
    "## Diccionarios\n",
    "\n",
    "* Conjunto de pares `key:value` o `clave:valor`, definidos entre llaves.\n",
    "  * `{}` Define un diccionario vacío.\n",
    "  * La función `dict()` pued recibir una secuencia de pares `key, value` para constuir un diccionario\n",
    "  * La función `dict()` también puede recibir argumentos para crear el diccionario.\n",
    "* Las claves son únicas en un diccionario.\n",
    "* Se puede acceder a (y modificar) los elementos a través de su `key`.\n",
    "* Pero no se puede acceder a las `key` a través de su valor.\n",
    "* Un diccionario puede tener como elemento cualquier objeto en Python (incluidos otros diccionarios)\n",
    "* Se puede comprobar si una llave está en un diccionario con el operador `in`.\n",
    "* En el diccionario **no se tiene un orden**, el `key` es el identificador importante.\n",
    "* El diccionario **no contiene índices** se accede a los valores por el `key`.\n",
    "\n",
    "\n",
    "# k= identificador\n",
    "# v = variable"
   ]
  },
  {
   "cell_type": "code",
   "execution_count": 15,
   "id": "8039946f",
   "metadata": {},
   "outputs": [
    {
     "name": "stdout",
     "output_type": "stream",
     "text": [
      "{}\n",
      "{}\n"
     ]
    }
   ],
   "source": [
    "dic1 = {}\n",
    "dic2 = dict()\n",
    "print(dic1 )\n",
    "print(dic2)"
   ]
  },
  {
   "cell_type": "code",
   "execution_count": 18,
   "id": "fbfb3345",
   "metadata": {},
   "outputs": [],
   "source": [
    "dict1 = {\"nombre\": \"Jean-Pierre\", \"apellido\": \"Cerda\",\n",
    "    \"carrera\": \"Biotecnología\", \"pref_topic\": \"Micorrizicos\"}"
   ]
  },
  {
   "cell_type": "code",
   "execution_count": 19,
   "id": "aea46b89",
   "metadata": {},
   "outputs": [
    {
     "data": {
      "text/plain": [
       "{'nombre': 'Jean-Pierre',\n",
       " 'apellido': 'Cerda',\n",
       " 'carrera': 'Biotecnología',\n",
       " 'pref_topic': 'Micorrizicos'}"
      ]
     },
     "execution_count": 19,
     "metadata": {},
     "output_type": "execute_result"
    }
   ],
   "source": [
    "dict1"
   ]
  },
  {
   "cell_type": "code",
   "execution_count": 28,
   "id": "01c73d55",
   "metadata": {},
   "outputs": [],
   "source": [
    "dict_gbi6 = {\n",
    "    \"Nombres\" :[\"Jean\"],\n",
    "    \"Apellido\" : [\"Cerda\"],\n",
    "    \"Cuidad\" : [\"Tena\"],\n",
    "    \"Carrera\" : [\"Biotecnologia\"]\n",
    "}"
   ]
  },
  {
   "cell_type": "code",
   "execution_count": 29,
   "id": "75fe0547",
   "metadata": {},
   "outputs": [
    {
     "data": {
      "text/plain": [
       "{'Nombres': ['Jean'],\n",
       " 'Apellido': ['Cerda'],\n",
       " 'Cuidad': ['Tena'],\n",
       " 'Carrera': ['Biotecnologia']}"
      ]
     },
     "execution_count": 29,
     "metadata": {},
     "output_type": "execute_result"
    }
   ],
   "source": [
    "dict_gbi6"
   ]
  },
  {
   "cell_type": "code",
   "execution_count": 32,
   "id": "2a0275d8",
   "metadata": {},
   "outputs": [
    {
     "data": {
      "text/plain": [
       "['Biotecnologia']"
      ]
     },
     "execution_count": 32,
     "metadata": {},
     "output_type": "execute_result"
    }
   ],
   "source": [
    "dict_gbi6 [\"Carrera\"]"
   ]
  },
  {
   "cell_type": "code",
   "execution_count": 33,
   "id": "a82d8d24",
   "metadata": {},
   "outputs": [
    {
     "data": {
      "text/plain": [
       "{'nombre': 'Luis',\n",
       " 'apellido': 'Sánchez',\n",
       " 'carrera': 'Biotecnología',\n",
       " 'pref_topic': 'NGS'}"
      ]
     },
     "execution_count": 33,
     "metadata": {},
     "output_type": "execute_result"
    }
   ],
   "source": [
    "#  se puede crear como pares ordenados \n",
    "dict2 = dict([(\"nombre\", \"Luis\"), (\"apellido\", \"Sánchez\"),           # nombre es el quit       #luis es el valor\n",
    "              (\"carrera\", \"Biotecnología\"), (\"pref_topic\", \"NGS\")])\n",
    "dict2"
   ]
  },
  {
   "cell_type": "code",
   "execution_count": 34,
   "id": "ef6e0efa",
   "metadata": {},
   "outputs": [],
   "source": [
    "dict3 = dict(nombre=\"Luis\", apellido=\"Sánchez\", carrera=\"Biotecnología\", \n",
    "             pref_topic = \"NGS\", edad = 31, Ecuatoriano=True )"
   ]
  },
  {
   "cell_type": "code",
   "execution_count": 37,
   "id": "3e709b72",
   "metadata": {},
   "outputs": [
    {
     "name": "stdout",
     "output_type": "stream",
     "text": [
      "{'nombre': 'Luis', 'apellido': 'Sánchez', 'carrera': 'Biotecnología', 'pref_topic': 'NGS', 'edad': 31, 'Ecuatoriano': True}\n",
      "{'nombre': 'Luis', 'apellido': 'Sánchez', 'carrera': 'Biotecnología', 'pref_topic': 'NGS'}\n",
      "{'Nombres': ['Jean'], 'Apellido': ['Cerda'], 'Cuidad': ['Tena'], 'Carrera': ['Biotecnologia']}\n"
     ]
    }
   ],
   "source": [
    "print(dict3)\n",
    "print(dict2)\n",
    "print(dict_gbi6)"
   ]
  },
  {
   "cell_type": "code",
   "execution_count": 39,
   "id": "69715dfb",
   "metadata": {},
   "outputs": [
    {
     "data": {
      "text/plain": [
       "{'nombre': 'Lizeth',\n",
       " 'apellido': 'Sánchez',\n",
       " 'carrera': 'Biotecnología',\n",
       " 'pref_topic': 'NGS',\n",
       " 'edad': 31,\n",
       " 'Ecuatoriano': True}"
      ]
     },
     "execution_count": 39,
     "metadata": {},
     "output_type": "execute_result"
    }
   ],
   "source": [
    "# Nueva etiqueta en un diccionario existente           #son objetos mutables \n",
    "dict3[\"nombre\"] = \"Lizeth\"\n",
    "dict3"
   ]
  },
  {
   "cell_type": "code",
   "execution_count": 40,
   "id": "c0bc5a82",
   "metadata": {},
   "outputs": [],
   "source": [
    "# Alimentar un diccionario vacío  \n",
    "dict4= {}\n",
    "dict4[\"genero\"] = \"Zea\"  # Nuevo item"
   ]
  },
  {
   "cell_type": "code",
   "execution_count": 41,
   "id": "7d8953b5",
   "metadata": {},
   "outputs": [
    {
     "data": {
      "text/plain": [
       "{'genero': 'Zea', 'especie': 'mays'}"
      ]
     },
     "execution_count": 41,
     "metadata": {},
     "output_type": "execute_result"
    }
   ],
   "source": [
    "dict4[\"especie\"] = \"mays\"\n",
    "dict4"
   ]
  },
  {
   "cell_type": "code",
   "execution_count": 47,
   "id": "534dc662",
   "metadata": {},
   "outputs": [],
   "source": [
    "#\"whos\" para ver que variables esta creado hasta el momento"
   ]
  },
  {
   "cell_type": "code",
   "execution_count": 48,
   "id": "bb83d951",
   "metadata": {},
   "outputs": [
    {
     "name": "stdout",
     "output_type": "stream",
     "text": [
      "Variable    Type    Data/Info\n",
      "-----------------------------\n",
      "dic1        dict    n=0\n",
      "dic2        dict    n=0\n",
      "dict1       dict    n=4\n",
      "dict2       dict    n=4\n",
      "dict3       dict    n=6\n",
      "dict4       dict    n=2\n",
      "dict_gbi6   dict    n=4\n",
      "lista1      list    n=3\n",
      "lista2      list    n=3\n",
      "lista3      list    n=9\n",
      "lista4      list    n=11\n",
      "primers     list    n=7\n"
     ]
    }
   ],
   "source": [
    "whos    "
   ]
  },
  {
   "cell_type": "code",
   "execution_count": 49,
   "id": "6f936fee",
   "metadata": {},
   "outputs": [
    {
     "data": {
      "text/plain": [
       "{'Homo sapiens': 3200.0,\n",
       " 'Escherichia coli': 17.2,\n",
       " 'Arabidopsis thaliana': 157.0,\n",
       " 'Drosophila melanogaster': 80}"
      ]
     },
     "execution_count": 49,
     "metadata": {},
     "output_type": "execute_result"
    }
   ],
   "source": [
    "size_genome = {\"Homo sapiens\": 3200.0, \n",
    "                 \"Escherichia coli\": 17.2, # tamaño real 4.6 Mbp\n",
    "                 \"Arabidopsis thaliana\": 157.0, \n",
    "                 \"Drosophila melanogaster\": 80  # el tamaño real es de 130 Mbp\n",
    "                }\n",
    "size_genome"
   ]
  },
  {
   "cell_type": "code",
   "execution_count": 50,
   "id": "66189406",
   "metadata": {},
   "outputs": [
    {
     "data": {
      "text/plain": [
       "{'Homo sapiens': 3200.0,\n",
       " 'Escherichia coli': 4.6,\n",
       " 'Arabidopsis thaliana': 157.0,\n",
       " 'Drosophila melanogaster': 130}"
      ]
     },
     "execution_count": 50,
     "metadata": {},
     "output_type": "execute_result"
    }
   ],
   "source": [
    "size_genome[\"Escherichia coli\"] = 4.6  # actualizar valor por cambio\n",
    "size_genome[\"Drosophila melanogaster\"] += 50  # actualizar valor / información con operación\n",
    "size_genome"
   ]
  },
  {
   "cell_type": "code",
   "execution_count": 51,
   "id": "aa98d054",
   "metadata": {},
   "outputs": [
    {
     "data": {
      "text/plain": [
       "True"
      ]
     },
     "execution_count": 51,
     "metadata": {},
     "output_type": "execute_result"
    }
   ],
   "source": [
    "# Cnsultas solo se hacen utilizando los KEY\n",
    "\"Homo sapiens\" in size_genome"
   ]
  },
  {
   "cell_type": "code",
   "execution_count": 1,
   "id": "a02ca82e",
   "metadata": {},
   "outputs": [
    {
     "data": {
      "text/plain": [
       "{'personal': {'nombre': 'Ashley', 'apellido': 'Genomeson'},\n",
       " 'academico': {'carrera': 'Biotecnología', 'semestre': 6},\n",
       " 'logros': {'primaria': 'Estrellita', 'Concurso': 'Bicecampeon'},\n",
       " 'materias': ['GBI6', 'FIA6', 'FIAV6', 'ENG6']}"
      ]
     },
     "execution_count": 1,
     "metadata": {},
     "output_type": "execute_result"
    }
   ],
   "source": [
    "# Complejo          #diccionario de diccionario con sub temas  \n",
    "\n",
    "d = {\"personal\": {\"nombre\": \"Ashley\",\"apellido\": \"Genomeson\"},  # son diciconarios\n",
    "    \"academico\": {\"carrera\": \"Biotecnología\",\"semestre\": 6 }, \n",
    "    \"logros\": {\"primaria\": \"Estrellita\", \"Concurso\": \"Bicecampeon\"}, \n",
    "    \"materias\": [\"GBI6\", \"FIA6\", \"FIAV6\", \"ENG6\"]}     # son listas\n",
    "d"
   ]
  },
  {
   "cell_type": "code",
   "execution_count": null,
   "id": "ba15ca55",
   "metadata": {},
   "outputs": [],
   "source": []
  }
 ],
 "metadata": {
  "kernelspec": {
   "display_name": "Python 3 (ipykernel)",
   "language": "python",
   "name": "python3"
  },
  "language_info": {
   "codemirror_mode": {
    "name": "ipython",
    "version": 3
   },
   "file_extension": ".py",
   "mimetype": "text/x-python",
   "name": "python",
   "nbconvert_exporter": "python",
   "pygments_lexer": "ipython3",
   "version": "3.9.7"
  }
 },
 "nbformat": 4,
 "nbformat_minor": 5
}
