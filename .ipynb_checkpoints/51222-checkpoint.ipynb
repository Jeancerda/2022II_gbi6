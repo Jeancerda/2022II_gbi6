{
 "cells": [
  {
   "cell_type": "markdown",
   "id": "7d6dc209",
   "metadata": {},
   "source": [
    "# Listas"
   ]
  },
  {
   "cell_type": "code",
   "execution_count": 9,
   "id": "f96d8f00",
   "metadata": {},
   "outputs": [
    {
     "data": {
      "text/plain": [
       "6"
      ]
     },
     "execution_count": 9,
     "metadata": {},
     "output_type": "execute_result"
    }
   ],
   "source": [
    "lista2 = [1, 2, \"Hola\", 2.5, True, [\"a\", \"b\"]]\n",
    "len(lista2)"
   ]
  },
  {
   "cell_type": "code",
   "execution_count": 20,
   "id": "5bb0f1a7",
   "metadata": {},
   "outputs": [
    {
     "data": {
      "text/plain": [
       "[1, 2, 'Hola', 2.5, True, ['a', 'b']]"
      ]
     },
     "execution_count": 20,
     "metadata": {},
     "output_type": "execute_result"
    }
   ],
   "source": [
    "lista2[:]         #para obtener todo"
   ]
  },
  {
   "cell_type": "code",
   "execution_count": 17,
   "id": "180ac519",
   "metadata": {},
   "outputs": [
    {
     "data": {
      "text/plain": [
       "[2, 'Hola', 2.5, True]"
      ]
     },
     "execution_count": 17,
     "metadata": {},
     "output_type": "execute_result"
    }
   ],
   "source": [
    "lista2[1:5]       # para tomar la segunda hasta la cuarta "
   ]
  },
  {
   "cell_type": "code",
   "execution_count": 19,
   "id": "3fcefc02",
   "metadata": {},
   "outputs": [
    {
     "data": {
      "text/plain": [
       "[1, 2, 'Hola', 2.5, True]"
      ]
     },
     "execution_count": 19,
     "metadata": {},
     "output_type": "execute_result"
    }
   ],
   "source": [
    "lista2[:5]        # para obtener hasta el elemento 4"
   ]
  },
  {
   "cell_type": "code",
   "execution_count": 18,
   "id": "34facf05",
   "metadata": {},
   "outputs": [
    {
     "data": {
      "text/plain": [
       "[2, 'Hola', 2.5, True, ['a', 'b']]"
      ]
     },
     "execution_count": 18,
     "metadata": {},
     "output_type": "execute_result"
    }
   ],
   "source": [
    "lista2[1:5 +1]   # Para tomar  la segunda hasta el ultimo\n"
   ]
  },
  {
   "cell_type": "code",
   "execution_count": 22,
   "id": "26b0f9e9",
   "metadata": {},
   "outputs": [
    {
     "data": {
      "text/plain": [
       "[['a', 'b'], 'Hola']"
      ]
     },
     "execution_count": 22,
     "metadata": {},
     "output_type": "execute_result"
    }
   ],
   "source": [
    "lista2[-1::-3]   # para tomar desde el ultimo al  elemento 3"
   ]
  },
  {
   "cell_type": "code",
   "execution_count": 23,
   "id": "e4ce37be",
   "metadata": {},
   "outputs": [
    {
     "data": {
      "text/plain": [
       "[2, 2.5, ['a', 'b']]"
      ]
     },
     "execution_count": 23,
     "metadata": {},
     "output_type": "execute_result"
    }
   ],
   "source": [
    "lista2[1:6:2]        # para obtener  dichos elementos"
   ]
  },
  {
   "cell_type": "code",
   "execution_count": 27,
   "id": "05e4810f",
   "metadata": {},
   "outputs": [
    {
     "data": {
      "text/plain": [
       "2.5"
      ]
     },
     "execution_count": 27,
     "metadata": {},
     "output_type": "execute_result"
    }
   ],
   "source": [
    "genes = [[\"p53\", 2.3, \"higado\"],[\"p53\", 1.3, \"rinon\"],[\"mapk3\", 2.5, \"higado\"]]\n",
    "genes[2][1]              # para obtener en el elemento 2 y obtener el elemento 2"
   ]
  },
  {
   "cell_type": "code",
   "execution_count": null,
   "id": "761ea203",
   "metadata": {},
   "outputs": [],
   "source": []
  },
  {
   "cell_type": "markdown",
   "id": "ddf5b822",
   "metadata": {},
   "source": [
    "# "
   ]
  },
  {
   "cell_type": "code",
   "execution_count": 29,
   "id": "0c246585",
   "metadata": {},
   "outputs": [
    {
     "name": "stdout",
     "output_type": "stream",
     "text": [
      "b\n"
     ]
    }
   ],
   "source": [
    "lista1 = [\"a\", \"b\", \"c\", \"d\", \"e\", \"f\", \"g\", \"h\", \"i\"]\n",
    "print(lista1[1])"
   ]
  },
  {
   "cell_type": "code",
   "execution_count": 30,
   "id": "432d16ca",
   "metadata": {},
   "outputs": [
    {
     "data": {
      "text/plain": [
       "True"
      ]
     },
     "execution_count": 30,
     "metadata": {},
     "output_type": "execute_result"
    }
   ],
   "source": [
    "\"a\" in lista1             # in para preguntar "
   ]
  },
  {
   "cell_type": "code",
   "execution_count": 31,
   "id": "64c2b2b4",
   "metadata": {},
   "outputs": [
    {
     "data": {
      "text/plain": [
       "True"
      ]
     },
     "execution_count": 31,
     "metadata": {},
     "output_type": "execute_result"
    }
   ],
   "source": [
    "\"b\" in lista1"
   ]
  }
 ],
 "metadata": {
  "kernelspec": {
   "display_name": "Python 3 (ipykernel)",
   "language": "python",
   "name": "python3"
  },
  "language_info": {
   "codemirror_mode": {
    "name": "ipython",
    "version": 3
   },
   "file_extension": ".py",
   "mimetype": "text/x-python",
   "name": "python",
   "nbconvert_exporter": "python",
   "pygments_lexer": "ipython3",
   "version": "3.9.7"
  }
 },
 "nbformat": 4,
 "nbformat_minor": 5
}
