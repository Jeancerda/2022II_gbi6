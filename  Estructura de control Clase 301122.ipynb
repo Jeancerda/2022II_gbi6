{
 "cells": [
  {
   "cell_type": "markdown",
   "id": "d4e97de3",
   "metadata": {},
   "source": [
    "# GBI6 - Clase 3 Python\n",
    "\n",
    "**Jean-Pierre Cerda**\n",
    "\n",
    "\n",
    "Es solo una ```prueba```\n"
   ]
  },
  {
   "cell_type": "code",
   "execution_count": 1,
   "id": "7eb5baf5",
   "metadata": {},
   "outputs": [
    {
     "data": {
      "text/plain": [
       "7"
      ]
     },
     "execution_count": 1,
     "metadata": {},
     "output_type": "execute_result"
    }
   ],
   "source": [
    "a = 3\n",
    "a+1\n",
    "a+2\n",
    "a+3\n",
    "a+4"
   ]
  },
  {
   "cell_type": "code",
   "execution_count": 4,
   "id": "102eb866",
   "metadata": {},
   "outputs": [
    {
     "name": "stdout",
     "output_type": "stream",
     "text": [
      "4\n",
      "3\n",
      "3\n",
      "3\n",
      "3\n",
      "3\n",
      "6\n",
      "3\n",
      "3\n",
      "3\n",
      "3\n",
      "3\n",
      "8\n",
      "3\n",
      "3\n",
      "3\n",
      "3\n",
      "3\n",
      "10\n",
      "3\n",
      "3\n",
      "3\n",
      "3\n",
      "3\n",
      "12\n",
      "3\n",
      "3\n",
      "3\n",
      "3\n",
      "3\n"
     ]
    }
   ],
   "source": [
    "b = 3\n",
    "a = range (1,10,2)   #rango de valores\n",
    "for i in a:          #bluce for  \n",
    "    print(b + i)     \n",
    "    for i in a:\n",
    "        print(b*1)"
   ]
  },
  {
   "cell_type": "markdown",
   "id": "7995041d",
   "metadata": {},
   "source": [
    "# Sentencia condicional: if\n",
    "\n",
    "\n",
    "if condicion1:  #verdadero\n",
    "  statement_1   \n",
    "else:           #falso\n",
    "  statement_2"
   ]
  },
  {
   "cell_type": "code",
   "execution_count": 8,
   "id": "f942a5e3",
   "metadata": {},
   "outputs": [
    {
     "ename": "SyntaxError",
     "evalue": "invalid syntax (Temp/ipykernel_15008/734767229.py, line 1)",
     "output_type": "error",
     "traceback": [
      "\u001b[1;36m  File \u001b[1;32m\"C:\\Users\\HP\\AppData\\Local\\Temp/ipykernel_15008/734767229.py\"\u001b[1;36m, line \u001b[1;32m1\u001b[0m\n\u001b[1;33m    c: T,A,Q\u001b[0m\n\u001b[1;37m        ^\u001b[0m\n\u001b[1;31mSyntaxError\u001b[0m\u001b[1;31m:\u001b[0m invalid syntax\n"
     ]
    }
   ],
   "source": [
    "c: T,A,Q\n",
    "l : U,R\n",
    "    if (c== \"T\",AND, l==\"U\"):\n",
    "        print(\"cobrar impuestos\")"
   ]
  },
  {
   "cell_type": "code",
   "execution_count": 9,
   "id": "ec1718f5",
   "metadata": {},
   "outputs": [
    {
     "name": "stdout",
     "output_type": "stream",
     "text": [
      "NO es divisible por 5\n"
     ]
    }
   ],
   "source": [
    "# Sin usar else\n",
    "x = 13\n",
    "y = 5\n",
    "if (x % y) != 0:\n",
    "    print(\"NO es divisible por 5\")\n",
    "else: \n",
    "    print(\"SI es divisible por 5\")"
   ]
  },
  {
   "cell_type": "code",
   "execution_count": null,
   "id": "b6544e7c",
   "metadata": {},
   "outputs": [],
   "source": [
    "# Sin usar else\n",
    "x = 13\n",
    "y = 5\n",
    "if (x % y) != 0:\n",
    "    print(\"NO es divisible por 5\")\n",
    "else: \n",
    "    print(\"SI es divisible por 5\")"
   ]
  },
  {
   "cell_type": "code",
   "execution_count": 11,
   "id": "c3a5f206",
   "metadata": {},
   "outputs": [
    {
     "name": "stdout",
     "output_type": "stream",
     "text": [
      "NO ES DIVISIBLE para 2 ni para 3\n"
     ]
    }
   ],
   "source": [
    "# Con else\n",
    "x = 19\n",
    "y = x % 2 # 1\n",
    "z = x % 3 # 0\n",
    "if (y == 0) & (z == 0): # ambas condiciones se deben cumplir\n",
    "    print(\"Divisible por 3 y por 2\")\n",
    "elif y == 0: \n",
    "    print(\"Solo es divisible por 2\")\n",
    "elif z == 0: \n",
    "    print(\"Solo es divisible por 3\")\n",
    "else:\n",
    "    print(\"NO ES DIVISIBLE para 2 ni para 3\")"
   ]
  },
  {
   "cell_type": "code",
   "execution_count": 12,
   "id": "16364cad",
   "metadata": {},
   "outputs": [
    {
     "ename": "SyntaxError",
     "evalue": "invalid syntax (Temp/ipykernel_15008/3544699269.py, line 7)",
     "output_type": "error",
     "traceback": [
      "\u001b[1;36m  File \u001b[1;32m\"C:\\Users\\HP\\AppData\\Local\\Temp/ipykernel_15008/3544699269.py\"\u001b[1;36m, line \u001b[1;32m7\u001b[0m\n\u001b[1;33m    if (m1 ==o)\u001b[0m\n\u001b[1;37m               ^\u001b[0m\n\u001b[1;31mSyntaxError\u001b[0m\u001b[1;31m:\u001b[0m invalid syntax\n"
     ]
    }
   ],
   "source": [
    "# variando al gusto del usuario el dividendo y el divisor\n",
    "# x: dividendo, y: divisor\n",
    "\n",
    "x = int(input(\"Dividendo: \"))\n",
    "y = int(input(\"Divisor: \"))\n",
    "z = x % y\n",
    "if (m1 ==0) & (m2 == 0)\n",
    "  print(x, \"Solo es divisible por \", y1 \"y\", y2)\n",
    "    \n",
    "else:\n",
    "    print(\"NO ES DIVISIBLE para 2 ni para 3\")"
   ]
  },
  {
   "cell_type": "code",
   "execution_count": 17,
   "id": "8b7046d1",
   "metadata": {},
   "outputs": [
    {
     "ename": "SyntaxError",
     "evalue": "invalid syntax (Temp/ipykernel_15008/2716708385.py, line 7)",
     "output_type": "error",
     "traceback": [
      "\u001b[1;36m  File \u001b[1;32m\"C:\\Users\\HP\\AppData\\Local\\Temp/ipykernel_15008/2716708385.py\"\u001b[1;36m, line \u001b[1;32m7\u001b[0m\n\u001b[1;33m    print( \"Solo es divisible por \", y1 \"y\", y2)\u001b[0m\n\u001b[1;37m                                        ^\u001b[0m\n\u001b[1;31mSyntaxError\u001b[0m\u001b[1;31m:\u001b[0m invalid syntax\n"
     ]
    }
   ],
   "source": [
    "\n",
    "\n",
    "x = int(input(\"Dividendo: \"))\n",
    "y1 = int(input(\"Divisor1: \"))\n",
    "y2 = int(input(\"Divisor2: \"))\n",
    "m1 = x % y1\n",
    "m2 = x % y2\n",
    "if (m1 == 0) & (m2 == 0):\n",
    "    print( \"Solo es divisible por \", y1 \"y\", y2)\n",
    "elif z == 0:\n",
    "    print(\"solo es divisible por 3\")\n",
    "else: \n",
    "    print( \"no es divisible para 2 ni para 3)"
   ]
  },
  {
   "cell_type": "code",
   "execution_count": null,
   "id": "b965f904",
   "metadata": {},
   "outputs": [],
   "source": []
  }
 ],
 "metadata": {
  "kernelspec": {
   "display_name": "Python 3 (ipykernel)",
   "language": "python",
   "name": "python3"
  },
  "language_info": {
   "codemirror_mode": {
    "name": "ipython",
    "version": 3
   },
   "file_extension": ".py",
   "mimetype": "text/x-python",
   "name": "python",
   "nbconvert_exporter": "python",
   "pygments_lexer": "ipython3",
   "version": "3.9.7"
  }
 },
 "nbformat": 4,
 "nbformat_minor": 5
}
