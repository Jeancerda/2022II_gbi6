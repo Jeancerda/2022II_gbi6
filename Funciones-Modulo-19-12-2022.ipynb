{
 "cells": [
  {
   "cell_type": "markdown",
   "id": "5c19d9f8",
   "metadata": {},
   "source": [
    "# Funciones -Modulos"
   ]
  },
  {
   "cell_type": "code",
   "execution_count": null,
   "id": "0b886e0e",
   "metadata": {},
   "outputs": [],
   "source": [
    "  def gato(raton1, raton2):\n",
    "  result = raton1 + raton2\n",
    "  print(result)                 # \"print\" = sirve para imprimir "
   ]
  },
  {
   "cell_type": "code",
   "execution_count": 11,
   "id": "8da01318",
   "metadata": {},
   "outputs": [
    {
     "name": "stdout",
     "output_type": "stream",
     "text": [
      "miau otro miau\n"
     ]
    }
   ],
   "source": [
    "gato(\"miau\", \" otro miau\")       "
   ]
  },
  {
   "cell_type": "code",
   "execution_count": 12,
   "id": "8c3987e5",
   "metadata": {},
   "outputs": [],
   "source": [
    "def gato(raton1, raton2):\n",
    "  result = raton1 + raton2\n",
    "  return(result)               # \"Return\" = es una salida"
   ]
  },
  {
   "cell_type": "code",
   "execution_count": 13,
   "id": "7466677a",
   "metadata": {},
   "outputs": [
    {
     "data": {
      "text/plain": [
       "'miau otro miau'"
      ]
     },
     "execution_count": 13,
     "metadata": {},
     "output_type": "execute_result"
    }
   ],
   "source": [
    "gato(\"miau\", \" otro miau\")"
   ]
  },
  {
   "cell_type": "code",
   "execution_count": 14,
   "id": "51127c77",
   "metadata": {},
   "outputs": [
    {
     "data": {
      "text/plain": [
       "'miau otro  miau'"
      ]
     },
     "execution_count": 14,
     "metadata": {},
     "output_type": "execute_result"
    }
   ],
   "source": [
    "cats = gato(\"miau\", \" otro  miau\")\n",
    "cats"
   ]
  },
  {
   "cell_type": "code",
   "execution_count": 15,
   "id": "2ae4b852",
   "metadata": {},
   "outputs": [
    {
     "data": {
      "text/plain": [
       "12"
      ]
     },
     "execution_count": 15,
     "metadata": {},
     "output_type": "execute_result"
    }
   ],
   "source": [
    "seq = \"ATCGATCGTAGC\"\n",
    "len_seq = len(seq)     # \"len\" = cuenta el numero de caracteres \n",
    "len_seq"
   ]
  },
  {
   "cell_type": "code",
   "execution_count": 16,
   "id": "2efc7915",
   "metadata": {},
   "outputs": [],
   "source": [
    "def potencia(x, y):      \n",
    " z = x**y\n",
    " return(z)"
   ]
  },
  {
   "cell_type": "code",
   "execution_count": 17,
   "id": "7fc41be5",
   "metadata": {},
   "outputs": [
    {
     "data": {
      "text/plain": [
       "25"
      ]
     },
     "execution_count": 17,
     "metadata": {},
     "output_type": "execute_result"
    }
   ],
   "source": [
    "potencia(5, 2)"
   ]
  },
  {
   "cell_type": "code",
   "execution_count": 18,
   "id": "dd12ec9c",
   "metadata": {},
   "outputs": [
    {
     "data": {
      "text/plain": [
       "1024"
      ]
     },
     "execution_count": 18,
     "metadata": {},
     "output_type": "execute_result"
    }
   ],
   "source": [
    "potencia(4,5)"
   ]
  },
  {
   "cell_type": "code",
   "execution_count": 19,
   "id": "1ef7a0e7",
   "metadata": {},
   "outputs": [
    {
     "data": {
      "text/plain": [
       "512"
      ]
     },
     "execution_count": 19,
     "metadata": {},
     "output_type": "execute_result"
    }
   ],
   "source": [
    "potencia(2, potencia(3,2))                #anidar"
   ]
  },
  {
   "cell_type": "code",
   "execution_count": 21,
   "id": "3520f74f",
   "metadata": {},
   "outputs": [
    {
     "name": "stdout",
     "output_type": "stream",
     "text": [
      "Object `x.count()` not found.\n"
     ]
    }
   ],
   "source": [
    "x = \"ANCNBDJHD\"\n",
    "?x.count()                         # \"Docstring\" = Explicacion"
   ]
  },
  {
   "cell_type": "code",
   "execution_count": null,
   "id": "50663a70",
   "metadata": {},
   "outputs": [],
   "source": [
    "def operaciones(x=3, x=5):\n",
    "    z1 = x+y\n",
    "    z2 =\n",
    "    z3 =\n",
    "    z4 =\n",
    "    return ([z1,z2,z3,z4])"
   ]
  },
  {
   "cell_type": "code",
   "execution_count": 25,
   "id": "4e227765",
   "metadata": {},
   "outputs": [],
   "source": [
    "# predefinir valores\n",
    "\n",
    "# es util para \n",
    "\n",
    "def potencia(x=2, y=3):                \n",
    "    \"\"\"\n",
    "    Potencia : eleva a la base x al exponente y\n",
    "    x: valor numerico de base\n",
    "    y: valor numerico de esxponente \n",
    "    \"\"\"\n",
    "    \n",
    "    z = x**y\n",
    "    return(z)"
   ]
  },
  {
   "cell_type": "code",
   "execution_count": 26,
   "id": "334b36f4",
   "metadata": {},
   "outputs": [],
   "source": [
    "?potencia"
   ]
  },
  {
   "cell_type": "code",
   "execution_count": 27,
   "id": "0a36ef48",
   "metadata": {},
   "outputs": [
    {
     "data": {
      "text/plain": [
       "8"
      ]
     },
     "execution_count": 27,
     "metadata": {},
     "output_type": "execute_result"
    }
   ],
   "source": [
    "potencia()"
   ]
  },
  {
   "cell_type": "code",
   "execution_count": null,
   "id": "8a025808",
   "metadata": {},
   "outputs": [],
   "source": [
    "potencia()"
   ]
  },
  {
   "cell_type": "code",
   "execution_count": 40,
   "id": "49c08f51",
   "metadata": {},
   "outputs": [],
   "source": [
    "def percentgc(seq=\"ATCG\"):\n",
    "    \"\"\" Primero se ceunta los C luego se ceunta los G seguido  \"\"\"\n",
    "    pgc = round (100*(seq.count(\"C\")+ seq.count(\"G\"))/len(seq),2)\n",
    "    return(pgc)"
   ]
  },
  {
   "cell_type": "code",
   "execution_count": 41,
   "id": "b34b9bfd",
   "metadata": {},
   "outputs": [
    {
     "data": {
      "text/plain": [
       "50.0"
      ]
     },
     "execution_count": 41,
     "metadata": {},
     "output_type": "execute_result"
    }
   ],
   "source": [
    "percentgc()"
   ]
  },
  {
   "cell_type": "code",
   "execution_count": 42,
   "id": "62329c59",
   "metadata": {},
   "outputs": [
    {
     "data": {
      "text/plain": [
       "52.94"
      ]
     },
     "execution_count": 42,
     "metadata": {},
     "output_type": "execute_result"
    }
   ],
   "source": [
    "percentgc(\"ATCGCTAGCTAGCTAGGAGAGAGGAGAGAGGATC\") "
   ]
  },
  {
   "cell_type": "code",
   "execution_count": 43,
   "id": "9dcb015b",
   "metadata": {},
   "outputs": [],
   "source": [
    "?percentgc"
   ]
  },
  {
   "cell_type": "code",
   "execution_count": null,
   "id": "84c6ff27",
   "metadata": {},
   "outputs": [],
   "source": [
    "# se puede combinar definidos y no definidos \n",
    "\n",
    "def test(parametro1, parametro2)"
   ]
  },
  {
   "cell_type": "markdown",
   "id": "258709a7",
   "metadata": {},
   "source": [
    "# 21/12/22\n"
   ]
  },
  {
   "cell_type": "markdown",
   "id": "30344649",
   "metadata": {},
   "source": [
    "# here's our first function"
   ]
  },
  {
   "cell_type": "code",
   "execution_count": 128,
   "id": "5254875a",
   "metadata": {},
   "outputs": [],
   "source": [
    "# here's our first function    --  Tienen dos posibilidades de retrorno asociados a \"if\"\n",
    "def GCcontent(seq=\"AtcG\", direccion = \"Forward\", cifra_sign = 3):\n",
    "    '''\n",
    "    GCcontent acepta como argumento una secuencia de texto de nombre dna;\n",
    "    Asume que la secuencia DNA está como texto (string), \n",
    "    Calcula el porcentaje de núcleótidos G y C utiizando la expresión \n",
    "    perc_gc = (G + C) / (A + T + G + C)\n",
    "    :param dna: secuencia de interés para calcular contenido de CG\n",
    "    :param dirección: ingresar Forward o Reverse\n",
    "    \n",
    "    '''\n",
    "    \n",
    "    if direccion == \"Forward\": \n",
    "        \n",
    "        # Transforma a mayúsculas a todos los caracteres\n",
    "        dna = seq.upper()\n",
    "        # Cuenta las ocurrencia de cada nucleotido\n",
    "        numG = dna.count(\"G\")                       \n",
    "        numC = dna.count(\"C\")\n",
    "        length = len(dna)\n",
    "        # calcula el porcentaje de los núcleótidos G y C (G + C) / (A + T + G + C)\n",
    "        perc_gc = round(100*(numG + numC) / length, cifra_sign)\n",
    "        return [dna, numG, numC, length, perc_gc]\n",
    "    else: \n",
    "        mensaje = print(\"Encuentre la reversa y calcule GC\")\n",
    "        return mensaje"
   ]
  },
  {
   "cell_type": "code",
   "execution_count": 49,
   "id": "74195bd9",
   "metadata": {},
   "outputs": [
    {
     "name": "stdout",
     "output_type": "stream",
     "text": [
      "\n",
      "    GCcontent acepta como argumento una secuencia de texto de nombre dna;\n",
      "    Asume que la secuencia DNA está como texto (string), \n",
      "    Calcula el porcentaje de núcleótidos G y C utiizando la expresión \n",
      "    perc_gc = (G + C) / (A + T + G + C)\n",
      "    :param dna: secuencia de interés para calcular contenido de CG\n",
      "    :param dirección: ingresar Forward o Reverse\n",
      "    \n",
      "    \n"
     ]
    }
   ],
   "source": [
    "print(GCcontent.__doc__)"
   ]
  },
  {
   "cell_type": "code",
   "execution_count": 53,
   "id": "cd959962",
   "metadata": {},
   "outputs": [],
   "source": [
    "??GCcontent\n",
    "\n"
   ]
  },
  {
   "cell_type": "code",
   "execution_count": 54,
   "id": "f73265dd",
   "metadata": {},
   "outputs": [
    {
     "data": {
      "text/plain": [
       "['ATCG', 1, 1, 4, 50.0]"
      ]
     },
     "execution_count": 54,
     "metadata": {},
     "output_type": "execute_result"
    }
   ],
   "source": [
    "GCcontent()"
   ]
  },
  {
   "cell_type": "code",
   "execution_count": 55,
   "id": "e65ff20f",
   "metadata": {},
   "outputs": [
    {
     "data": {
      "text/plain": [
       "['ATCGATCGTAGCTAGCTAGATACTCTCTCT', 5, 8, 30, 43.33333]"
      ]
     },
     "execution_count": 55,
     "metadata": {},
     "output_type": "execute_result"
    }
   ],
   "source": [
    "GCcontent(\"ATCGATCGTAGCTAGCTAGATACTCTCTCT\", \"Forward\", 5)"
   ]
  },
  {
   "cell_type": "code",
   "execution_count": 56,
   "id": "109eec89",
   "metadata": {},
   "outputs": [
    {
     "name": "stdout",
     "output_type": "stream",
     "text": [
      "Encuentre la reversa y calcule GC\n"
     ]
    }
   ],
   "source": [
    "GCcontent( cifra_sign = 5, direccion= \"backaward\", seq= \"ATGCATGCATGC\")"
   ]
  },
  {
   "cell_type": "code",
   "execution_count": 61,
   "id": "d60d884c",
   "metadata": {},
   "outputs": [],
   "source": [
    "# Función con cambios\n",
    "def ATcontent(dna, sig_figs=3):\n",
    "    dna = dna.replace('N', '')\n",
    "    dna = dna.replace('R', '')\n",
    "    length = len(dna)\n",
    "    a_count = dna.upper().count('A')\n",
    "    t_count = dna.upper().count('T')\n",
    "    at_content = (a_count + t_count) / length\n",
    "    return round(at_content, sig_figs) "
   ]
  },
  {
   "cell_type": "code",
   "execution_count": 62,
   "id": "fd3f4994",
   "metadata": {},
   "outputs": [],
   "source": [
    "assert ATcontent(\"ATGC\") == 0.5"
   ]
  },
  {
   "cell_type": "code",
   "execution_count": 63,
   "id": "8b44ff5b",
   "metadata": {},
   "outputs": [],
   "source": [
    "assert ATcontent(\"ATGCNNNNNNNNNNR\") == 0.5"
   ]
  },
  {
   "cell_type": "code",
   "execution_count": 64,
   "id": "bfdea5df",
   "metadata": {},
   "outputs": [],
   "source": [
    "assert ATcontent(\"ATGCGCGATCGATCGAATCG\") == 0.45"
   ]
  },
  {
   "cell_type": "code",
   "execution_count": 65,
   "id": "89024f60",
   "metadata": {},
   "outputs": [],
   "source": [
    "assert ATcontent(\"ATGCATGCAACTGTAGC\") == 0.529"
   ]
  },
  {
   "cell_type": "code",
   "execution_count": null,
   "id": "8f0876a8",
   "metadata": {},
   "outputs": [],
   "source": []
  },
  {
   "cell_type": "code",
   "execution_count": 88,
   "id": "1983b2df",
   "metadata": {},
   "outputs": [
    {
     "data": {
      "text/plain": [
       "'TCGCHRDRT'"
      ]
     },
     "execution_count": 88,
     "metadata": {},
     "output_type": "execute_result"
    }
   ],
   "source": [
    "dna = \"ATCGCHARDRTA\"\n",
    "new_dna =\"\"\n",
    "for  c in dna:\n",
    "    if c !=\"A\": \n",
    "        new_dna +=c\n",
    "new_dna"
   ]
  },
  {
   "cell_type": "code",
   "execution_count": 90,
   "id": "44ac1a7b",
   "metadata": {},
   "outputs": [
    {
     "data": {
      "text/plain": [
       "'ATATA'"
      ]
     },
     "execution_count": 90,
     "metadata": {},
     "output_type": "execute_result"
    }
   ],
   "source": [
    "dna = \"ATCGCHARDRTA\"\n",
    "new_dna =\"\"\n",
    "for  c in dna:\n",
    "    if (c==\"A\") | (c == \"T\"): \n",
    "        new_dna +=c\n",
    "new_dna"
   ]
  },
  {
   "cell_type": "code",
   "execution_count": 139,
   "id": "abfa70b7",
   "metadata": {},
   "outputs": [],
   "source": [
    "def GCcontent(seq=\"ATCGCHARDRTA\"):\n",
    "\n",
    "    \n",
    "     dna = seq.upper()\n",
    "     numG = dna.count(\"G\")                       \n",
    "        numC = dna.count(\"C\")\n",
    "        length = len(dna)\n",
    "         perc_gc = round(100*(numG + numC) / length, cifra_sign)\n",
    "        return [dna, numG, numC, length, perc_gc]\n",
    "    \n",
    "    dna = \"ATCGCHARDRTA\"\n",
    "    new_dna = \"\"\n",
    "    for  c in seq:\n",
    "        if (c==\"A\") | (c == \"T\") | (c==\"G\") | (c==\"C\"):\n",
    "            new_dna +=c\n",
    "    gcp=round(new_dna.count('G')/len(new_dna),2)\n",
    "    return[seq,new_dna,gcp]\n",
    "\n",
    "    "
   ]
  },
  {
   "cell_type": "code",
   "execution_count": 140,
   "id": "a36ba8d1",
   "metadata": {},
   "outputs": [
    {
     "data": {
      "text/plain": [
       "['ATCGCHARDRTA', 'ATCGCATA', 0.12]"
      ]
     },
     "execution_count": 140,
     "metadata": {},
     "output_type": "execute_result"
    }
   ],
   "source": [
    "GCcontent()"
   ]
  },
  {
   "cell_type": "code",
   "execution_count": 155,
   "id": "6b50c4c2",
   "metadata": {},
   "outputs": [
    {
     "ename": "AssertionError",
     "evalue": "",
     "output_type": "error",
     "traceback": [
      "\u001b[1;31m---------------------------------------------------------------------------\u001b[0m",
      "\u001b[1;31mAssertionError\u001b[0m                            Traceback (most recent call last)",
      "\u001b[1;32m~\\AppData\\Local\\Temp/ipykernel_4260/3701153858.py\u001b[0m in \u001b[0;36m<module>\u001b[1;34m\u001b[0m\n\u001b[1;32m----> 1\u001b[1;33m \u001b[1;32massert\u001b[0m \u001b[0mGCcontent\u001b[0m\u001b[1;33m(\u001b[0m\u001b[1;34m\"ATCGCHARDRTA\"\u001b[0m\u001b[1;33m)\u001b[0m\u001b[1;33m[\u001b[0m\u001b[1;36m2\u001b[0m\u001b[1;33m]\u001b[0m \u001b[1;33m==\u001b[0m \u001b[1;36m60\u001b[0m\u001b[1;33m\u001b[0m\u001b[1;33m\u001b[0m\u001b[0m\n\u001b[0m",
      "\u001b[1;31mAssertionError\u001b[0m: "
     ]
    }
   ],
   "source": [
    "assert GCcontent(\"ATCGCHARDRTA\")[2] == 60"
   ]
  },
  {
   "cell_type": "code",
   "execution_count": null,
   "id": "577b78cb",
   "metadata": {},
   "outputs": [],
   "source": []
  }
 ],
 "metadata": {
  "kernelspec": {
   "display_name": "Python 3 (ipykernel)",
   "language": "python",
   "name": "python3"
  },
  "language_info": {
   "codemirror_mode": {
    "name": "ipython",
    "version": 3
   },
   "file_extension": ".py",
   "mimetype": "text/x-python",
   "name": "python",
   "nbconvert_exporter": "python",
   "pygments_lexer": "ipython3",
   "version": "3.9.7"
  }
 },
 "nbformat": 4,
 "nbformat_minor": 5
}
